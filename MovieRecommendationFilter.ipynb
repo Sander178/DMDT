{
 "cells": [
  {
   "cell_type": "code",
   "execution_count": 1,
   "metadata": {},
   "outputs": [],
   "source": [
    "# Importing libraries\n",
    "import csv\n",
    "import numpy as np"
   ]
  },
  {
   "cell_type": "code",
   "execution_count": 2,
   "metadata": {},
   "outputs": [],
   "source": [
    "# Importing the csv file and defining my favorite movie\n",
    "reviews = open('userReviews.csv', newline='', encoding='utf8')\n",
    "reader = csv.reader(reviews, delimiter=',')\n",
    "userreviews = list(reader)\n",
    "\n",
    "movie = 'titanic'"
   ]
  },
  {
   "cell_type": "code",
   "execution_count": 3,
   "metadata": {},
   "outputs": [
    {
     "name": "stdout",
     "output_type": "stream",
     "text": [
      "[10, 10, 10, 7, 10, 1, 10, 10, 10, 9, 10, 8, 10, 10, 10, 10, 6, 10, 10, 10, 5, 3, 4, 10, 2, 9, 4, 10, 10, 10, 10, 3, 10, 10, 10, 10, 6, 3, 10, 3, 5, 0, 2, 0, 0, 0, 6, 6, 4, 6, 1, 9, 8, 1, 10, 7, 10, 10, 10, 9, 10, 10, 8, 10, 7, 9, 10, 10, 10, 7, 6, 10, 10, 9, 8, 10, 6, 7, 10, 9, 8, 10, 10, 10, 8, 10, 0, 10, 10, 10, 10, 10, 10, 8, 10, 10, 10, 10, 10, 10, 10, 9, 7, 9, 8, 10, 10, 9, 9, 10, 7, 7, 9, 10, 10, 8, 10, 8, 10, 7, 10, 8, 9, 10, 9, 10, 10, 8, 8, 10, 5, 6, 7, 9, 10, 7, 8, 7, 5, 9, 9, 9, 10, 10, 8, 8, 10, 8, 9, 7, 4, 10, 8, 10, 5, 10, 7, 10, 10, 9, 9, 10, 10, 2, 10, 9]\n"
     ]
    }
   ],
   "source": [
    "# Defining X (All user scores of my favorite movie)\n",
    "x = []\n",
    "\n",
    "for row in userreviews:\n",
    "    if (row[0].split(';')[0]) == movie:\n",
    "        x.append(int(row[0].split(';')[1]))\n",
    "\n",
    "print(x)"
   ]
  },
  {
   "cell_type": "code",
   "execution_count": 4,
   "metadata": {},
   "outputs": [
    {
     "name": "stdout",
     "output_type": "stream",
     "text": [
      "8.132530120481928\n"
     ]
    }
   ],
   "source": [
    "# Calculating M (Average user score of my favorite movie)\n",
    "m = sum(x)/len(x)\n",
    "print(m)"
   ]
  },
  {
   "cell_type": "code",
   "execution_count": 5,
   "metadata": {},
   "outputs": [
    {
     "name": "stdout",
     "output_type": "stream",
     "text": [
      "['1jonssonh', 'TylerDurden900', 'CorinnaW.', 'TheNewSpielberg', 'Sari', 'Mariofan', 'Kims', 'conners', 'JasonP.', 'JonnyFendi', 'filmtrashreview', 'imthenoob', 'Eric27', 'JohnnyStephens', 'MovieGuys', 'LilMonster87', 'FilmVirtue', 'sushantkumar', 'SiAScORCH', 'kdee1', 'Beastprogamer', 'Petrocelli', 'jojojojojojo', 'KaitlynnH.', 'python2000', 'Chris0Callaghan', 'moonman1994', 'Isaac_adhd', 'BillS', 'sLm', 'MovieLonely94', 'matroycem', 'sil3nt_nick', 'RaymondMendez19', 'Nicomovies', 'lukechristiansc', 'gm101', 'pauljohnson', 'Diamandis', 'JawsPapi87', 'grandpajoe6191', 'DravenatorLives', 'JimG.', 'ChrisB.', 'TS', 'JamsB.', 'NathanT', 'FrederickS.', 'Jaeq', 'Jake', 'StephenB.', 'Roy', 'ScaraB', 'LawrenceY.', 'iamkhenzpolenio', 'joregano', 'AndrewUltimate', 'Acher4', 'maestraretirada', 'aaronpaul121', 'lisabv2011', 'coolgames101', 'davenbettridge', 'Jboy2468', 'OnAnarchy', 'beingryanjude', 'Trev29', 'Giorgos216', 'Hadrianus', 'dante_finn', 'JawsLaxerDrama', 'The-Truth', 'JackDawson1997', 'dyshpo', 'ThatCooperGuy', 'Titanicfan91', 'Muddsjr', 'vikesh2206', 'joshua11', 'teddyluke', 'CineAutoctono', '2141', 'smiyamot', 'Evyan2002', 'EpicLadySponge', 'Dyliebar', 'titanicsucks', 'miker.', 'chrissy', 'CiaranG.', 'HannahB', 'KatieT', 'shelbyj', '[Anonymous]', 'KeithH', 'AmyM', 'BonnieH.', 'TonyB.', 'ConorM.', 'CodyG.', 'JakeL', 'JimmyP.', 'jwt7000', 'Judddy', 'asylumspadez', 'domive', 'CCN', 'layola', 'EssenceOfSugar', 'DaBlackNight', 'spadenx', 'oxana', 'lasttimeisaw', 'jack977', 'csw12', 'AwesomeReviewer', 'HonestOmi08', 'Official', 'wesker2012', 'Spangle', 'williamx22', 'axelkoch', 'zied12', 'barnet42', 'Iky009', 'felipescavo', 'Rainbow001', 'Rox22', 'Annoymous1', 'HaithamBayazeed', 'BradySmith', 'ncstatemike', 'ryanMoriarity', 'mds03', 'SEROJ', 'MarkMusic', 'Scorpion', 'eagleeyeviking', 'prossnip42', 'Mordovan89', 'JennyLu', 'diogomendes', 'inaneswine', 'AlexMI', 'SythusRATINGS', 'harihari', 'DBPirate1129', 'homer4president', 'fardin8899', 'Cantandres', 'colombogermano', 'lucasg_', 'Lepstrung', 'RickyReviews', 'Futuredirector', 'MasterRiley', 'reviewfrom19842', 'edwaz2000', 'Tiber5', 'Benkoko11', 'opethagalloch', 'MonkiReviews', 'SonicHD7', 'snakeordeath', 'KenanLV426', 'MLPNASCARFan18']\n"
     ]
    }
   ],
   "source": [
    "# Defining Y (All users that reviewed my favorite movie)\n",
    "y = []\n",
    "\n",
    "for i in userreviews:\n",
    "    if (i[0].split(';')[0]) == movie:\n",
    "        y.append(i[0].split(';')[2])\n",
    "\n",
    "print(y)"
   ]
  },
  {
   "cell_type": "code",
   "execution_count": 9,
   "metadata": {},
   "outputs": [
    {
     "name": "stdout",
     "output_type": "stream",
     "text": [
      "['your-name', 'the-big-sick', 'baby-driver', 'spider-man-homecoming', 'colossal', 'norman-the-moderate-rise-and-tragic-fall-of-a-new-york-fixer', 'the-lego-batman-movie', 'logan-2017', 'john-wick-chapter-2', 'get-out', 'the-red-turtle', 'patriots-day', 'la-la-land', 'fantastic-beasts-and-where-to-find-them', 'passengers-2016', 'jackie', 'hacksaw-ridge', 'the-edge-of-seventeen', 'wonder-woman', 'doctor-strange', 'the-birth-of-a-nation', 'arrival', 'moonlight-2016', 'hell-or-high-water', 'sherpa', 'sully', 'kubo-and-the-two-strings', 'the-neon-demon', 'paths-of-the-soul', 'jason-bourne', 'the-shallows', 'april-and-the-extraordinary-world', 'the-nice-guys', 'cemetery-of-splendor', 'embrace-of-the-serpent', 'my-golden-days', '10-cloverfield-lane', 'zootopia', 'captain-america-civil-war', 'phoenix', 'krampus', 'of-men-and-war', 'carol', 'the-big-short', 'brooklyn', 'the-hateful-eight', 'spotlight', 'the-diary-of-a-teenage-girl', 'bridge-of-spies', 'the-square-2013', 'the-walk', 'mistress-america', 'sicario', 'vacation-2015', 'me-and-earl-and-the-dying-girl', 'tomorrowland', 'pitch-perfect-2', 'inside-out-2015', 'cinderella', 'two-days-one-night', 'san-andreas', 'mad-max-fury-road', 'ex-machina', 'get-hard', 'focus-2015', 'leviathan-2014', 'winter-sleep', 'selma', 'paddington', 'the-wedding-ringer', 'the-spongebob-movie-sponge-out-of-water', 'mr-turner', 'the-breakfast-club', 'song-of-the-sea', 'unbroken', 'into-the-woods', 'the-babadook', 'whiplash', 'the-hunger-games-mockingjay---part-1', 'foxcatcher', 'coherence', '21-years-richard-linklater', 'the-theory-of-everything', 'the-hobbit-the-battle-of-the-five-armies', 'gone-girl', 'the-good-lie', 'big-hero-6', 'left-behind-2014', 'the-hundred-foot-journey', 'dawn-of-the-planet-of-the-apes', 'how-to-train-your-dragon-2', 'the-wind-rises', 'life-after-beth', 'million-dollar-arm', 'x-men-days-of-future-past', 'the-fault-in-our-stars', 'snowpiercer', 'ida', 'a-million-ways-to-die-in-the-west', 'filth', 'only-lovers-left-alive', 'neighbors', 'rio-2', 'oculus', 'the-missing-picture', 'the-lego-movie', 'about-last-night', 'jack-ryan-shadow-recruit', '300-rise-of-an-empire', 'the-grand-budapest-hotel', 'philomena', 'lone-survivor', 'noah', 'the-hobbit-the-desolation-of-smaug', 'american-hustle', 'frozen-2013', 'the-wolf-of-wall-street', 'saving-mr-banks', 'inside-llewyn-davis', 'the-secret-life-of-walter-mitty', 'all-is-lost', 'short-term-12', 'the-spectacular-now', 'prisoners', 'the-hunt', 'riddick', 'wolf-children', 'godzilla-2014', 'despicable-me-2', 'blackfish', 'the-croods', 'the-worlds-end', 'man-of-steel', 'world-war-z', 'pacific-rim', 'now-you-see-me', 'the-great-gatsby', 'amour', 'the-gatekeepers', 'spring-breakers', 'the-call', '42', 'barrymore', 'starlet', 'stand-up-guys', 'django-unchained', 'side-effects-2013', 'promised-land', 'cloud-atlas', 'a-haunted-house', 'the-impossible', 'les-miserables', 'the-loneliest-planet', 'holy-motors', 'this-is-40', 'celeste-and-jesse-forever', 'hotel-transylvania', 'argo', 'silver-linings-playbook', 'seven-psychopaths', 'looper', 'flight', 'lincoln', 'the-master', 'paranorman', 'men-in-black-iii', 'a-separation', 'the-cabin-in-the-woods', 'brave', 'the-artist', 'dr-seuss-the-lorax', 'american-reunion', 'joyful-noise', 'extremely-loud-and-incredibly-close', 'carnage-2011', 'the-adventures-of-tintin', 'shame', 'mission-impossible---ghost-protocol', '21-jump-street', 'war-horse', 'the-muppets', 'the-girl-with-the-dragon-tattoo-2011', 'the-descendants', 'the-ides-of-march', 'kung-fu-panda-2', 'the-debt', 'fright-night', 'midnight-in-paris', 'gnomeo-and-juliet', '127-hours', 'tangled', 'the-amazing-spider-man', 'blue-valentine', 'inside-job', 'moneyball', 'unstoppable', 'shrek-forever-after', 'joan-rivers-a-piece-of-work', 'the-twilight-saga-eclipse', 'valhalla-rising', 'meet-the-parents', 'the-hunger-games', 'eat-pray-love', 'the-sorcerers-apprentice', 'smash-his-camera', 'toy-story-3', 'please-give', 'the-good-the-bad-the-weird', 'repo-men', 'despicable-me', 'how-to-train-your-dragon', 'winters-bone', 'inception', 'the-town', 'alice-in-wonderland', 'dear-john', 'from-paris-with-love', 'a-single-man', 'prince-of-persia-the-sands-of-time', 'the-book-of-eli', 'the-blind-side', 'invictus', 'fantastic-mr-fox', 'precious-based-on-the-novel-push-by-sapphire', 'little-ashes', 'zombieland', 'up-in-the-air', 'cloudy-with-a-chance-of-meatballs', 'sherlock-holmes', 'saw-vi', 'the-ugly-truth', 'ice-age-dawn-of-the-dinosaurs', 'moon', 'away-we-go', 'up', 'shutter-island', 'katyn', '17-again', 'the-class', 'adventureland', 'revolutionary-road', 'gran-torino', 'i-love-you-man', 'the-hurt-locker', 'the-curious-case-of-benjamin-button', 'friday-the-13th', 'jcvd', 'push', 'the-uninvited', 'role-models', 'cadillac-records', 'the-boy-in-the-striped-pajamas', 'the-chronicles-of-narnia-prince-caspian', 'man-on-wire', 'burn-after-reading', 'the-dark-knight', 'traitor', 'kung-fu-panda', 'star-wars-the-clone-wars', 'wall-e', 'rachel-getting-married', 'get-smart', 'tropic-thunder', 'pathology', 'the-fall', 'the-love-guru', 'hellboy-ii-the-golden-army', 'step-up-2-the-streets', 'sex-and-the-city', 'nims-island', 'harold-kumar-escape-from-guantanamo-bay', 'shine-a-light', '21', 'persepolis', 'charlie-bartlett', 'in-bruges', 'cassandras-dream', 'doomsday', 'the-orphanage', 'the-mist', 'lars-and-the-real-girl', 'the-water-horse', 'enchanted', 'walk-hard-the-dewey-cox-story', 'i-am-legend', 'sweeney-todd-the-demon-barber-of-fleet-street', 'juno', 'there-will-be-blood', 'alvin-and-the-chipmunks', 'speed-racer', 'eagle-vs-shark', 'the-simpsons-movie', 'sunshine', 'the-bourne-ultimatum', 'eastern-promises', 'gone-baby-gone', 'atonement', 'harry-potter-and-the-order-of-the-phoenix', 'ratatouille', 'stardust', 'live-free-or-die-hard', 'hairspray', 'meet-the-robinsons', 'transformers', 'two-weeks', '28-weeks-later', 'hot-fuzz', 'premonition', 'apocalypto', 'bridge-to-terabithia', 'shooter', 'deliver-us-from-evil', 'the-painted-veil', 'pans-labyrinth', 'old-joy', 'casino-royale', 'rocky-balboa', 'turistas', 'the-nativity-story', 'night-at-the-museum', 'the-prestige', 'crazy', '300', 'the-departed', 'dreamgirls', 'the-queen', 'half-nelson', 'blood-diamond', 'jackass-number-two', 'barnyard', 'andy-warhol-a-documentary-film', 'world-trade-center', 'an-inconvenient-truth', 'the-devil-wears-prada', 'click', 'ice-age-the-meltdown', 'slither', 'curious-george', 'the-fast-and-the-furious-tokyo-drift', 'talladega-nights-the-ballad-of-ricky-bobby', 'the-spirit-of-the-beehive', 'over-the-hedge', 'akeelah-and-the-bee', 'summer-storm', 'united-93', 'silent-hill', 'changing-times', 'snakes-on-a-plane', 'scary-movie-4', 'thank-you-for-smoking', 'annapolis', 'the-libertine', 'before-the-fall', 'brick', 'babel', 'night-watch-nochnoi-dozor', 'transamerica', 'grandmas-boy', 'the-family-stone', 'chicken-little', 'capote', 'harry-potter-and-the-goblet-of-fire', 'howls-moving-castle', 'prime', 'first-descent', 'just-friends', 'domino', 'pulse-2005', 'werckmeister-harmonies', 'thumbsucker', 'the-net', 'wedding-crashers', 'jarhead', 'wallace-gromit-the-curse-of-the-were-rabbit', 'elizabethtown', 'flightplan', 'happy-endings', 'sympathy-for-mr-vengeance', 'rent', 'cinderella-man', 'the-island', 'the-polar-express', 'the-chronicles-of-narnia-the-lion-the-witch-and-the-wardrobe', 'unleashed', 'batman-forever', 'ben-hur-1959', 'masculine-feminine-re-release', 'kingdom-of-heaven', 'batman-begins', 'nobody-knows', 'oldboy', 'the-nutty-professor', 'sin-city', 'the-deer-hunter', 'war-of-the-worlds', 'constantine', 'ghostbusters-ii', 'charlie-and-the-chocolate-factory', 'abc-africa', 'downfall', 'the-40-year-old-virgin', 'serenity', 'toy-story', 'seed-of-chucky', 'the-machinist', 'the-godfather-part-ii', 'hoop-dreams', 'million-dollar-baby', 'star-wars-episode-iii---revenge-of-the-sith', 'brokeback-mountain', 'red-eye', 'pocahontas', 'the-life-aquatic-with-steve-zissou', 'hustle-flow', 'house-of-flying-daggers', 'lemony-snickets-a-series-of-unfortunate-events', 'life-is-sweet', 'primer', 'apollo-13', 'finding-neverland', 'the-incredibles', 'lord-of-war', 'sex-is-comedy', 'broken-flowers', 'nine-lives', 'walk-the-line', 'hotel-rwanda', 'bean', 'the-spongebob-squarepants-movie', 'october-sky', 'saw', 'raging-bull', 'secrets-lies', 'de-lovely', 'sideways', 'scent-of-a-woman', 'anchorman-the-legend-of-ron-burgundy', 'the-squid-and-the-whale', 'good-night-and-good-luck', 'maria-full-of-grace', 'the-bourne-supremacy', 'elf', 'hero', 'harry-potter-and-the-prisoner-of-azkaban', 'short-cuts', 'the-grudge-2004', 'the-chronicles-of-riddick', 'yu-gi-oh!-the-movie', 'mulan', 'shaun-of-the-dead', 'spider-man-2', 'shrek-2', 'white-chicks', 'ed-wood', 'little-manhattan', 'king-kong', 'dawn-of-the-dead', 'to-be-and-to-have', 'star-wars-episode-vi---return-of-the-jedi', 'star-wars-episode-v---the-empire-strikes-back', 'rosewood', 'star-wars-episode-iv---a-new-hope', 'mean-girls', 'the-girl-next-door-2004', 'after-hours', 'the-passion-of-the-christ', 'napoleon-dynamite', 'memoirs-of-a-geisha', 'a-history-of-violence', 'eternal-sunshine-of-the-spotless-mind', 'my-voyage-to-italy', 'city-of-god', 'the-station-agent', 'kill-bill-vol-2', 'mystic-river', 'the-white-countess', 'scary-movie-3', 'independence-day', 'the-triplets-of-belleville', 'cheaper-by-the-dozen', 'the-cat-in-the-hat', '21-grams', 'the-last-samurai', 'schindlers-list', 'firewall', 'sarah-silverman-jesus-is-magic', 'matchstick-men', 'spy-kids-3-d-game-over', 'match-point', 'the-school-of-rock', 'dickie-roberts-former-child-star', 'the-matrix-revolutions', 'kill-bill-vol-1', 'american-splendor', 'return-to-oz', 'capturing-the-friedmans', 'lost-in-translation', 'freddy-vs-jason', 'minis-first-time', 'the-lost-city', 'the-lord-of-the-rings-the-return-of-the-king', 'monster-house', 'body-heat', 'pirates-of-the-caribbean-the-curse-of-the-black-pearl', 'freaky-friday', 'sinbad-legend-of-the-seven-seas', 'the-santa-clause-2', 'once-upon-a-time-in-the-west', 'naked-lunch', 'nacho-libre', 'millennium-actress', 'hulk', 'terminator-3-rise-of-the-machines', 'finding-nemo', 'cars', 'mrs-doubtfire', 'v-for-vendetta', 'raiders-of-the-lost-ark', 'the-italian-job', 'indiana-jones-and-the-temple-of-doom', 'cronos', 'a-christmas-story', 'the-matrix-reloaded', 'bend-it-like-beckham', '28-days-later', 'twelve-monkeys', 'holes', 'the-lion-king', 'jumanji', 'serpico', 'halloween-1978', 'the-lizzie-mcguire-movie', 'miami-vice', 'halloween-h20-20-years-later', 'solaris', 'a-scanner-darkly', 'phone-booth', 'the-lord-of-the-rings-the-two-towers', 'little-miss-sunshine', 'gangs-of-new-york', 'the-da-vinci-code', 'fearless', 'crank', 'a-bugs-life', 'terminator-2-judgment-day', 'catch-me-if-you-can', 'liar-liar', 'the-people-vs-larry-flynt', 'adaptation', 'the-pianist', 'bloody-sunday', 'the-illusionist', 'treasure-planet', 'the-guardian', 'ran', 'the-wild-thornberrys-movie', 'harry-potter-and-the-chamber-of-secrets', 'the-prince-of-egypt', 'open-season', 'jackass-the-movie', 'spirited-away', 'who-framed-roger-rabbit', 'facing-the-giants', 'saw-iii', 'army-of-darkness', 'three-colors-blue', 'lady-in-the-water', 'the-science-of-sleep', 'borat-cultural-learnings-of-america-for-make-benefit-glorious-nation-of-kazakhstan', 'atanarjuat-the-fast-runner', 'free-willy', 'time-out', 'stranger-than-fiction', 'pirates-of-the-caribbean-dead-mans-chest', 'happy-feet', 'the-pursuit-of-happyness', 'signs', 'the-bourne-identity', 'minority-report', 'danielson-a-family-movie-or-make-a-joyful-noise-here', 'back-to-the-future', 'back-to-the-future-part-ii', 'back-to-the-future-part-iii', 'smokin-aces', 'stuart-little-2', 'volver', 'roman-holiday', 'u-turn', 'austin-powers-in-goldmember', 'lilo-stitch', 'army-of-shadows', 'antz', 'notes-on-a-scandal', 'darwins-nightmare', 'goldeneye', 'zodiac', 'et-the-extra-terrestrial', 'star-wars-episode-ii---attack-of-the-clones', 'spirit-stallion-of-the-cimarron', 'the-santa-clause', 'tomorrow-never-dies', 'y-tu-mama-tambien', 'spider-man', 'ice-age', 'insomnia', 'the-flintstones', 'big-fat-liar', 'monsters-inc', 'one-flew-over-the-cuckoos-nest', 'death-to-smoochy', '310-to-yuma', 'close-encounters-of-the-third-kind', 'black-book', 'the-lord-of-the-rings-the-fellowship-of-the-ring', '1408', 'amelie', 'speed-2-cruise-control', 'speed', 'gosford-park', 'a-beautiful-mind', 'chungking-express', 'black-hawk-down', 'kung-pow-enter-the-fist', 'men-in-black', 'waitress', 'oceans-eleven', 'the-others', 'ali', 'harry-potter-and-the-sorcerers-stone', 'moolaade', 'iron-monkey', 'k-pax', 'children-of-men', 'bio-dome', 'shoot-em-up', 'knocked-up', 'chinatown', 'superbad', 'in-the-mood-for-love', 'beverly-hills-cop', 'the-abyss', 'the-evil-dead-1983', 'atlantis-the-lost-empire', 'groundhog-day', 'rat-race', 'ghost-world', 'quiz-show', 'in-the-valley-of-elah', 'faceoff', 'the-servant', 'jeepers-creepers', 'the-score', 'jurassic-park', 'apocalypse-now', 'crazybeautiful', 'shrek', 'hannah-and-her-sisters', 'legally-blonde', 'cats-dogs', 'dumb-and-dumber', 'the-darjeeling-limited', 'a-knights-tale', 'the-mummy-returns', 'spy-kids', 'the-mask-of-zorro', 'beowulf', 'the-neverending-story', 'memento', 'the-goonies', 'no-country-for-old-men', 'a-clockwork-orange', 'forrest-gump', 'southland-tales', 'die-hard-with-a-vengeance', 'the-fugitive', 'crouching-tiger-hidden-dragon', 'two-family-house', 'unbreakable', 'tootsie', 'pirates-of-the-caribbean-at-worlds-end', 'the-professional', 'star-wars-episode-i---the-phantom-menace', 'the-godfather', 'panic', 'rush-hour', 'yi-yi', 'postcards-from-the-edge', 'bound', 'bamboozled', 'love-story', 'the-shining', 'terms-of-endearment', '102-dalmatians', 'superman', 'reversal-of-fortune', 'toy-story-2', 'big-daddy', 'the-rock', 'superman-ii', 'almost-famous', 'theres-something-about-mary', 'jumper', 'dinosaur', 'the-piano', 'when-harry-met-sally', 'cj7', 'predator', 'chicken-run', 'gone-in-sixty-seconds', 'road-trip', 'scary-movie', 'princess-mononoke', 'the-patriot', 'x-men', 'prince-of-darkness', 'american-beauty', 'pitch-black', 'war-inc', 'jaws', 'the-lost-world-jurassic-park', 'iron-man', 'a-summers-tale', 'american-psycho', 'the-tigger-movie', 'forgetting-sarah-marshall', 'fargo', 'the-crying-game', 'the-naked-gun-from-the-files-of-police-squad!', 'magnolia', 'bicentennial-man', 'indiana-jones-and-the-kingdom-of-the-crystal-skull', 'the-blair-witch-project', 'topsy-turvy', 'the-green-mile', 'the-strangers', '4-months-3-weeks-and-2-days', 'fight-club', 'being-john-malkovich', 'the-straight-story', 'the-firm', 'butch-cassidy-and-the-sundance-kid', 'tarzan', 'spaceballs', 'the-insider', 'poltergeist-1982', 'the-sixth-sense', 'eyes-wide-shut', 'cinema-paradiso', 'cloverfield', 'step-brothers', 'ghost-town-2008', 'lone-star', 'the-shawshank-redemption', 'rain-man', 'american-pie', 'the-outsiders', 'saving-private-ryan', 'stop-making-sense', 'ferris-buellers-day-off', 'falling-down', 'election-1999', 'the-iron-giant', 'the-usual-suspects', 'robocop', 'the-matrix', 'breakfast-at-tiffanys', 'life-is-beautiful', 'the-thin-red-line', 'monty-python-and-the-holy-grail', 'central-station', 'mallrats', 'ghostbusters', 'badlands', 'brazil', 'the-last-days-of-disco', 'american-history-x', 'austin-powers-the-spy-who-shagged-me', 'a-fish-called-wanda', 'home-alone', 'sense-and-sensibility', 'full-metal-jacket', 'wanted', 'anastasia', 'clerks', 'crumb', 'snake-eyes', 'die-hard-2', 'the-parent-trap', 'pecker', 'pineapple-express', 'south-park-bigger-longer-uncut', 'good-will-hunting', 'primary-colors', 'dances-with-wolves', 'primal-fear', 'mission-impossible', 'dead-poets-society', 'armageddon', 'the-texas-chain-saw-massacre', 'peggy-sue-got-married', 'one-false-move', 'crash', 'evil-dead-ii', 'taken', 'sixteen-candles', 'pulp-fiction', 'cabaret', 'the-silence-of-the-lambs', 'the-truman-show', 'boogie-nights', 'the-manchurian-candidate-1962', 'la-confidential', 'do-the-right-thing', 'scarface', 'air-force-one', 'the-fifth-element', 'trainspotting', 'babylon-ad', 'anaconda', 'scream', 'sling-blade', 'amadeus', 'austin-powers-international-man-of-mystery', 'happy-gilmore', 'dracula', 'ace-ventura-when-nature-calls', 'shine', 'the-bridges-of-madison-county', 'batman', 'lethal-weapon', 'twister', 'batman-returns', 'halloween-ii', 'risky-business', 'the-mask', 'die-hard', 'police-academy', 'the-terminator', 'true-romance', 'blade-runner', 'ace-ventura-pet-detective', 'zack-and-miri-make-a-porno', 'bottle-shock', 'nick-and-norahs-infinite-playlist', 'goodfellas', 'bolt', 'tell-no-one', 'yes-man', 'the-reader', 'quantum-of-solace', 'marley-me', 'the-soloist', 'paul-blart-mall-cop', 'my-sisters-keeper', 'orphan', 'star-trek', 'gomorrah', 'imagine-that', 'funny-people', 'night-at-the-museum-battle-of-the-smithsonian', 'harry-potter-and-the-half-blood-prince', 'inglourious-basterds', 'slumdog-millionaire', 'district-9', 'bruno', 'paranormal-activity', 'halloween-ii-2009', 'terminator-salvation', 'couples-retreat', 'transformers-revenge-of-the-fallen', 'coraline', 'the-hangover', '500-days-of-summer', 'ponyo', 'the-social-network', 'law-abiding-citizen', 'pirate-radio', 'watchmen', '2012', 'the-lovely-bones', 'avatar', 'the-road', 'shes-out-of-my-league', 'the-secret-in-their-eyes', 'splice', 'the-human-centipede-first-sequence', 'robin-hood', 'legend-of-the-guardians-the-owls-of-gahoole', 'the-a-team', 'iron-man-2', 'the-kids-are-all-right', 'the-tillman-story', 'easy-a', 'harry-potter-and-the-deathly-hallows-part-i', 'let-me-in', 'black-swan', 'never-let-me-go', 'red', 'the-diving-bell-and-the-butterfly', 'source-code', 'scream-4', 'hugo', 'scott-pilgrim-vs-the-world', 'paul', 'rango', 'tucker-dale-vs-evil', 'bridesmaids', 'fast-five', 'take-shelter', 'elite-squad-the-enemy-within', 'a-very-harold-kumar-christmas', 'tower-heist', '5050', 'the-help', 'paranormal-activity-3', 'we-were-here', 'sucker-punch', 'we-need-to-talk-about-kevin', 'this-means-war', 'melancholia', 'ice-age-continental-drift', 'chernobyl-diaries', 'liberal-arts', 'diary-of-a-wimpy-kid-dog-days', 'the-dark-knight-rises', 'trouble-with-the-curve', 'dark-shadows', 'moonrise-kingdom', 'premium-rush', 'pitch-perfect', 'frankenweenie', 'killer-joe', 'the-intouchables', 'the-perks-of-being-a-wallflower', 'transformers-dark-of-the-moon', 'this-is-not-a-film', 'undefeated', 'the-avengers-2012', 'drive', 'rise-of-the-guardians', 'life-of-pi', 'dredd', 'mud', 'the-heat', 'the-way-way-back', 'the-conjuring', 'before-midnight', 'bridegroom', 'zero-dark-thirty', 'the-internship', 'kick-ass-2', 'the-act-of-killing', 'were-the-millers', 'iron-man-3', 'rush', 'wadjda', 'machete-kills', 'nebraska', 'mr-nobody', 'hours', '12-years-a-slave', 'blue-is-the-warmest-color', 'gravity', 'her', 'that-awkward-moment', 'ernest-celestine', 'the-hunger-games-catching-fire', 'divergent', 'the-hobbit-an-unexpected-journey', 'out-of-the-clear-blue-sky', 'gods-not-dead', 'calvary', '22-jump-street', 'guardians-of-the-galaxy', 'love-is-strange', 'the-overnighters', 'captain-america-the-winter-soldier', 'alexander-and-the-terrible-horrible-no-good-very-bad-day', 'lucy', 'life-itself', 'nightcrawler', 'john-wick', 'the-imitation-game', 'boyhood', 'the-loft', 'gett-the-trial-of-viviane-amsalem', 'the-amazing-spider-man-2', 'timbuktu', 'american-sniper', 'kingsman-the-secret-service', 'interstellar', 'love-mercy', 'hitman', 'what-we-did-on-our-holiday', 'spy', 'paper-towns', 'batman-v-superman-dawn-of-justice', 'amy-2015', 'star-wars-episode-vii---the-force-awakens', 'mission-impossible---rogue-nation', 'the-look-of-silence', 'minions', 'hotel-transylvania-2', 'the-martian', 'miss-you-already', 'room-2015', 'the-night-before', 'jafar-panahis-taxi', 'crimson-peak', 'creed', 'emelie', 'the-revenant-2015', 'the-witch', 'sing-street', 'ant-man', 'hunt-for-the-wilderpeople', 'finding-dory', 'petes-dragon', 'american-honey', 'guardians-of-the-galaxy-vol-2', 'jurassic-world', 'lion', 'the-zookeepers-wife', 'hidden-figures', 'wind-river', 'manchester-by-the-sea', 'deadpool']\n"
     ]
    }
   ],
   "source": [
    "# Defining movierecommendations (All other movies reviewed by users that reviewed my favorite movie and received an equal or higher score than the average score of my favorite movie)\n",
    "author = str(y)\n",
    "average = str(m)\n",
    "movierecommendations = []\n",
    "\n",
    "for i in userreviews:\n",
    "    if (i[0].split(';')[1]) >= average: # Only selecting movies with an equal or higher score than the average of my favorite movie\n",
    "        if (i[0].split(';')[2]) in author: # Only selecting movies that have been reviewed by the same author(s) as my favorite movie\n",
    "            if (i[0].split(';')[0]) != movie: # Removing my favorite movie from the selection\n",
    "                movierecommendations.append(i[0].split(';')[0])\n",
    "\n",
    "movierecommendations = list(dict.fromkeys(movierecommendations)) # Removing the duplicate movies from the list\n",
    "print(movierecommendations)"
   ]
  },
  {
   "cell_type": "code",
   "execution_count": 10,
   "metadata": {},
   "outputs": [],
   "source": [
    "# Saving the output in a CSV file\n",
    "np.savetxt(\"RecommendedMovies.csv\", movierecommendations, delimiter=\",\",fmt='% s')"
   ]
  }
 ],
 "metadata": {
  "interpreter": {
   "hash": "4af592bb51bd06411fd595e6587c9d071cab33ab60f9b52944d78eb993651f61"
  },
  "kernelspec": {
   "display_name": "Python 3.8.8 64-bit ('base': conda)",
   "language": "python",
   "name": "python3"
  },
  "language_info": {
   "codemirror_mode": {
    "name": "ipython",
    "version": 3
   },
   "file_extension": ".py",
   "mimetype": "text/x-python",
   "name": "python",
   "nbconvert_exporter": "python",
   "pygments_lexer": "ipython3",
   "version": "3.8.8"
  },
  "orig_nbformat": 4
 },
 "nbformat": 4,
 "nbformat_minor": 2
}
